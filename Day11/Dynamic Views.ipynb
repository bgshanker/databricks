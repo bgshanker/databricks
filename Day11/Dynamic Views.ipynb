{
 "cells": [
  {
   "cell_type": "code",
   "execution_count": 0,
   "metadata": {
    "application/vnd.databricks.v1+cell": {
     "cellMetadata": {},
     "inputWidgets": {},
     "nuid": "fada9142-0540-4803-86c7-6eb020cd74a0",
     "showTitle": false,
     "tableResultSettingsMap": {},
     "title": ""
    }
   },
   "outputs": [],
   "source": [
    "https://docs.databricks.com/gcp/en/views/dynamic"
   ]
  },
  {
   "cell_type": "code",
   "execution_count": 0,
   "metadata": {
    "application/vnd.databricks.v1+cell": {
     "cellMetadata": {
      "byteLimit": 2048000,
      "rowLimit": 10000
     },
     "inputWidgets": {},
     "nuid": "00b4eb21-d67e-4493-883d-61dfb1574183",
     "showTitle": false,
     "tableResultSettingsMap": {},
     "title": ""
    }
   },
   "outputs": [],
   "source": [
    "use catalog auto;\n",
    "use bgshankar_silver;"
   ]
  },
  {
   "cell_type": "code",
   "execution_count": 0,
   "metadata": {
    "application/vnd.databricks.v1+cell": {
     "cellMetadata": {
      "byteLimit": 2048000,
      "rowLimit": 10000
     },
     "inputWidgets": {},
     "nuid": "566d10fd-efc1-45fa-9993-bbbaaa072d97",
     "showTitle": false,
     "tableResultSettingsMap": {},
     "title": ""
    }
   },
   "outputs": [],
   "source": [
    "CREATE OR REPLACE TABLE heartrate_device (device_id INT, mrn STRING, name STRING, time TIMESTAMP, heartrate DOUBLE);\n",
    "\n",
    "INSERT INTO heartrate_device VALUES\n",
    "  (23, \"40580129\", \"Nicholas Spears\", \"2020-02-01T00:01:58.000+0000\", 54.0122153343),\n",
    "  (17, \"52804177\", \"Lynn Russell\", \"2020-02-01T00:02:55.000+0000\", 92.5136468131),\n",
    "  (37, \"65300842\", \"Samuel Hughes\", \"2020-02-01T00:08:58.000+0000\", 52.1354807863),\n",
    "  (23, \"40580129\", \"Nicholas Spears\", \"2020-02-01T00:16:51.000+0000\", 54.6477014191),\n",
    "  (17, \"52804177\", \"Lynn Russell\", \"2020-02-01T00:18:08.000+0000\", 95.033344842);\n",
    "  \n",
    "SELECT * FROM heartrate_device"
   ]
  },
  {
   "cell_type": "code",
   "execution_count": 0,
   "metadata": {
    "application/vnd.databricks.v1+cell": {
     "cellMetadata": {
      "byteLimit": 2048000,
      "rowLimit": 10000
     },
     "inputWidgets": {},
     "nuid": "a64edd16-5709-4a7b-85fa-175b4feaee52",
     "showTitle": false,
     "tableResultSettingsMap": {},
     "title": ""
    }
   },
   "outputs": [],
   "source": [
    "CREATE OR REPLACE VIEW naval_gold.agg_heartrate AS (\n",
    "  SELECT mrn, name, MEAN(heartrate) avg_heartrate, DATE_TRUNC(\"DD\", time) date\n",
    "  FROM heartrate_device\n",
    "  GROUP BY mrn, name, DATE_TRUNC(\"DD\", time)\n",
    ");\n",
    "SELECT * FROM naval_gold.agg_heartrate"
   ]
  },
  {
   "cell_type": "markdown",
   "metadata": {
    "application/vnd.databricks.v1+cell": {
     "cellMetadata": {},
     "inputWidgets": {},
     "nuid": "764f33e9-914d-450a-9346-b49353f3282f",
     "showTitle": false,
     "tableResultSettingsMap": {},
     "title": ""
    }
   },
   "source": [
    "### Column-level permissions"
   ]
  },
  {
   "cell_type": "code",
   "execution_count": 0,
   "metadata": {
    "application/vnd.databricks.v1+cell": {
     "cellMetadata": {
      "byteLimit": 2048000,
      "rowLimit": 10000
     },
     "inputWidgets": {},
     "nuid": "037768ec-0d23-44aa-b9cc-fbd4b666d3c7",
     "showTitle": false,
     "tableResultSettingsMap": {},
     "title": ""
    }
   },
   "outputs": [],
   "source": [
    "CREATE OR REPLACE VIEW bgshankar_gold.agg_heartrate AS (\n",
    "  SELECT \n",
    "  CASE WHEN\n",
    "    is_account_group_member('de') THEN mrn\n",
    "    ELSE 'REDACTED'\n",
    "  END AS mrn, \n",
    "  name, \n",
    "  MEAN(heartrate) avg_heartrate, \n",
    "  DATE_TRUNC(\"DD\", time) date\n",
    "  FROM heartrate_device\n",
    "  GROUP BY mrn, name, DATE_TRUNC(\"DD\", time)\n",
    ");"
   ]
  },
  {
   "cell_type": "code",
   "execution_count": 0,
   "metadata": {
    "application/vnd.databricks.v1+cell": {
     "cellMetadata": {
      "byteLimit": 2048000,
      "rowLimit": 10000
     },
     "inputWidgets": {},
     "nuid": "4c0c858f-4365-412f-97f1-1bddb191584b",
     "showTitle": false,
     "tableResultSettingsMap": {},
     "title": ""
    }
   },
   "outputs": [],
   "source": [
    "CREATE OR REPLACE VIEW bgshankar_gold.agg_heartrate AS (\n",
    "  SELECT \n",
    "  CASE WHEN\n",
    "    is_account_group_member('de') THEN 'REDACTED'\n",
    "    ELSE mrn\n",
    "  END AS mrn, \n",
    "  name, \n",
    "  MEAN(heartrate) avg_heartrate, \n",
    "  DATE_TRUNC(\"DD\", time) date\n",
    "  FROM heartrate_device\n",
    "  GROUP BY mrn, name, DATE_TRUNC(\"DD\", time)\n",
    ");"
   ]
  },
  {
   "cell_type": "code",
   "execution_count": 0,
   "metadata": {
    "application/vnd.databricks.v1+cell": {
     "cellMetadata": {
      "byteLimit": 2048000,
      "rowLimit": 10000
     },
     "inputWidgets": {},
     "nuid": "e3c693fa-ff03-4502-ad37-49f0bd1cd09a",
     "showTitle": false,
     "tableResultSettingsMap": {},
     "title": ""
    }
   },
   "outputs": [],
   "source": [
    "select * from auto.bgshankar_gold.agg_heartrate;"
   ]
  },
  {
   "cell_type": "code",
   "execution_count": 0,
   "metadata": {
    "application/vnd.databricks.v1+cell": {
     "cellMetadata": {
      "byteLimit": 2048000,
      "rowLimit": 10000
     },
     "inputWidgets": {},
     "nuid": "28ecff6b-85c8-4281-a916-8eed849e5200",
     "showTitle": false,
     "tableResultSettingsMap": {},
     "title": ""
    }
   },
   "outputs": [],
   "source": [
    "SELECT * FROM heartrate_device  "
   ]
  },
  {
   "cell_type": "code",
   "execution_count": 0,
   "metadata": {
    "application/vnd.databricks.v1+cell": {
     "cellMetadata": {
      "byteLimit": 2048000,
      "rowLimit": 10000
     },
     "inputWidgets": {},
     "nuid": "5ff3cd0a-3ecc-4f56-8d4d-a26d0eefe1d3",
     "showTitle": false,
     "tableResultSettingsMap": {},
     "title": ""
    }
   },
   "outputs": [],
   "source": [
    "create or replace view auto.bgshankar_gold.heartrate \n",
    "as \n",
    "SELECT * FROM heartrate_device  \n",
    "where\n",
    "CASE\n",
    "    WHEN is_account_group_member('account users') THEN device_id>17\n",
    "    ELSE True\n",
    "  END;"
   ]
  },
  {
   "cell_type": "code",
   "execution_count": 0,
   "metadata": {
    "application/vnd.databricks.v1+cell": {
     "cellMetadata": {
      "byteLimit": 2048000,
      "rowLimit": 10000
     },
     "inputWidgets": {},
     "nuid": "3b71503e-a3c4-4c67-b4d2-6c644ff8d8e8",
     "showTitle": false,
     "tableResultSettingsMap": {},
     "title": ""
    }
   },
   "outputs": [],
   "source": [
    "CREATE OR REPLACE VIEW bgshankar_gold.agg_heartrate AS (\n",
    "  SELECT \n",
    "  CASE WHEN\n",
    "    is_account_group_member('da') THEN 'REDACTED'\n",
    "    ELSE mrn\n",
    "  END AS mrn, \n",
    "  name, \n",
    "  MEAN(heartrate) avg_heartrate, \n",
    "  DATE_TRUNC(\"DD\", time) date\n",
    "  FROM heartrate_device\n",
    "  where\n",
    "  CASE\n",
    "    WHEN is_account_group_member('da') THEN heartrate>53\n",
    "    ELSE True\n",
    "  END\n",
    "  GROUP BY mrn, name, DATE_TRUNC(\"DD\", time)\n",
    ");"
   ]
  },
  {
   "cell_type": "code",
   "execution_count": 0,
   "metadata": {
    "application/vnd.databricks.v1+cell": {
     "cellMetadata": {
      "byteLimit": 2048000,
      "rowLimit": 10000
     },
     "inputWidgets": {},
     "nuid": "a4df1be1-3e93-47e4-b677-411db168beba",
     "showTitle": false,
     "tableResultSettingsMap": {},
     "title": ""
    }
   },
   "outputs": [],
   "source": [
    "select * from bgshankar_gold.agg_heartrate\n"
   ]
  },
  {
   "cell_type": "code",
   "execution_count": 0,
   "metadata": {
    "application/vnd.databricks.v1+cell": {
     "cellMetadata": {
      "byteLimit": 2048000,
      "rowLimit": 10000
     },
     "inputWidgets": {},
     "nuid": "e8203ea1-ebf6-4cc7-9cde-b76dad59ae68",
     "showTitle": false,
     "tableResultSettingsMap": {},
     "title": ""
    }
   },
   "outputs": [],
   "source": [
    "CREATE OR REPLACE FUNCTION datamask(x STRING)\n",
    "  RETURNS STRING\n",
    "  RETURN CONCAT(REPEAT(\"*\", LENGTH(x) - 2), RIGHT(x, 2)\n",
    "); "
   ]
  },
  {
   "cell_type": "code",
   "execution_count": 0,
   "metadata": {
    "application/vnd.databricks.v1+cell": {
     "cellMetadata": {
      "byteLimit": 2048000,
      "rowLimit": 10000
     },
     "inputWidgets": {},
     "nuid": "973430a7-bdc0-47a1-8415-9a2a88dab2cc",
     "showTitle": false,
     "tableResultSettingsMap": {},
     "title": ""
    }
   },
   "outputs": [],
   "source": [
    "CREATE OR REPLACE VIEW bgshankar_gold.agg_heartrate AS (\n",
    "  SELECT \n",
    "  CASE WHEN\n",
    "    is_account_group_member('de') THEN datamask(mrn)\n",
    "    ELSE mrn\n",
    "  END AS mrn, \n",
    "  name, \n",
    "  MEAN(heartrate) avg_heartrate, \n",
    "  DATE_TRUNC(\"DD\", time) date\n",
    "  FROM heartrate_device\n",
    "  GROUP BY mrn, name, DATE_TRUNC(\"DD\", time)\n",
    ");"
   ]
  },
  {
   "cell_type": "code",
   "execution_count": 0,
   "metadata": {
    "application/vnd.databricks.v1+cell": {
     "cellMetadata": {
      "byteLimit": 2048000,
      "rowLimit": 10000
     },
     "inputWidgets": {},
     "nuid": "37d45a1c-3b18-4bd3-ab29-eb977d22f68b",
     "showTitle": false,
     "tableResultSettingsMap": {},
     "title": ""
    }
   },
   "outputs": [],
   "source": [
    "select * from naval_gold.agg_heartrate"
   ]
  },
  {
   "cell_type": "code",
   "execution_count": 0,
   "metadata": {
    "application/vnd.databricks.v1+cell": {
     "cellMetadata": {
      "byteLimit": 2048000,
      "rowLimit": 10000
     },
     "inputWidgets": {},
     "nuid": "5ba8fb67-9d20-4743-92b6-28575e4574b8",
     "showTitle": false,
     "tableResultSettingsMap": {},
     "title": ""
    }
   },
   "outputs": [],
   "source": [
    "SHOW GROUPS;\n",
    "--SHOW GROUPS WITH USER `bgshankar@gmail.com`;\n",
    "--show users like 'bgshankar@gmail.com';"
   ]
  }
 ],
 "metadata": {
  "application/vnd.databricks.v1+notebook": {
   "computePreferences": null,
   "dashboards": [],
   "environmentMetadata": {
    "base_environment": "",
    "environment_version": "2"
   },
   "inputWidgetPreferences": null,
   "language": "sql",
   "notebookMetadata": {
    "pythonIndentUnit": 4
   },
   "notebookName": "Dynamic Views",
   "widgets": {}
  },
  "language_info": {
   "name": "sql"
  }
 },
 "nbformat": 4,
 "nbformat_minor": 0
}
